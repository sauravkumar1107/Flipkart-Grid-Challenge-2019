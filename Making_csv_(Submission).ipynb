{
  "nbformat": 4,
  "nbformat_minor": 0,
  "metadata": {
    "colab": {
      "name": "Making csv (Submission).ipynb",
      "version": "0.3.2",
      "provenance": [],
      "collapsed_sections": []
    },
    "kernelspec": {
      "name": "python3",
      "display_name": "Python 3"
    }
  },
  "cells": [
    {
      "metadata": {
        "id": "P7zoWp4zsQDR",
        "colab_type": "code",
        "outputId": "b67f42ea-4c8c-4ee2-8474-ecde1381bd64",
        "colab": {
          "base_uri": "https://localhost:8080/",
          "height": 34
        }
      },
      "cell_type": "code",
      "source": [
        "from keras.models import Sequential, Model\n",
        "from keras.models import load_model\n",
        "from keras.layers import Reshape, Activation, Conv2D, Input, MaxPooling2D, BatchNormalization, Flatten, Dense, Lambda, Dropout\n",
        "from keras.preprocessing.image import ImageDataGenerator\n",
        "from keras.layers.advanced_activations import LeakyReLU\n",
        "from keras.callbacks import EarlyStopping, ModelCheckpoint, TensorBoard\n",
        "from keras.optimizers import SGD, Adam, RMSprop\n",
        "from keras.layers.merge import concatenate\n",
        "import matplotlib.pyplot as plt\n",
        "import keras.backend as K\n",
        "import tensorflow as tf\n",
        "import imgaug as ia\n",
        "from tqdm import tqdm\n",
        "from imgaug import augmenters as iaa\n",
        "import numpy as np\n",
        "import pickle\n",
        "import os, cv2\n",
        "import pandas as pd"
      ],
      "execution_count": 0,
      "outputs": [
        {
          "output_type": "stream",
          "text": [
            "Using TensorFlow backend.\n"
          ],
          "name": "stderr"
        }
      ]
    },
    {
      "metadata": {
        "id": "m3jDbAYxBb4X",
        "colab_type": "text"
      },
      "cell_type": "markdown",
      "source": [
        "Load the prediction file "
      ]
    },
    {
      "metadata": {
        "id": "KCv75tontO2o",
        "colab_type": "code",
        "outputId": "60abb214-45c6-426d-97b4-7f70c6712ee1",
        "colab": {
          "base_uri": "https://localhost:8080/",
          "height": 136
        }
      },
      "cell_type": "code",
      "source": [
        "boxprediction = np.load(\"H:/datasets/Grid/level3/testpred.npy\")\n",
        "boxprediction"
      ],
      "execution_count": 0,
      "outputs": [
        {
          "output_type": "execute_result",
          "data": {
            "text/plain": [
              "array([[ 86.888245, 504.53546 , 218.32787 , 331.44937 ],\n",
              "       [ 95.58077 , 517.01953 ,  40.69352 , 339.28564 ],\n",
              "       [217.17628 , 402.28265 ,  95.365944, 249.55983 ],\n",
              "       ...,\n",
              "       [ 77.2302  , 601.5062  ,  53.526382, 425.63422 ],\n",
              "       [ 43.95345 , 524.4421  ,  98.48015 , 381.7337  ],\n",
              "       [ 75.57376 , 399.19006 ,  82.19083 , 377.7374  ]], dtype=float32)"
            ]
          },
          "metadata": {
            "tags": []
          },
          "execution_count": 10
        }
      ]
    },
    {
      "metadata": {
        "id": "dXUIv8eitfJe",
        "colab_type": "code",
        "outputId": "4c29ea1f-1d15-4a0b-bb86-1591bb07f207",
        "colab": {
          "base_uri": "https://localhost:8080/",
          "height": 34
        }
      },
      "cell_type": "code",
      "source": [
        "boxprediction.shape , boxprediction.dtype"
      ],
      "execution_count": 0,
      "outputs": [
        {
          "output_type": "execute_result",
          "data": {
            "text/plain": [
              "((24045, 4), dtype('float32'))"
            ]
          },
          "metadata": {
            "tags": []
          },
          "execution_count": 13
        }
      ]
    },
    {
      "metadata": {
        "id": "K95HoWuEtttZ",
        "colab_type": "code",
        "outputId": "26957b1f-0a17-41eb-864b-014689ce660d",
        "colab": {
          "base_uri": "https://localhost:8080/",
          "height": 136
        }
      },
      "cell_type": "code",
      "source": [
        "boxprediction = boxprediction.astype(np.int64)\n",
        "boxprediction\n"
      ],
      "execution_count": 0,
      "outputs": [
        {
          "output_type": "execute_result",
          "data": {
            "text/plain": [
              "array([[ 82, 557,  82, 426],\n",
              "       [211, 416, 122, 418],\n",
              "       [214, 422,  88, 371],\n",
              "       ...,\n",
              "       [ 77, 601,  53, 425],\n",
              "       [ 43, 524,  98, 381],\n",
              "       [ 75, 399,  82, 377]])"
            ]
          },
          "metadata": {
            "tags": []
          },
          "execution_count": 14
        }
      ]
    },
    {
      "metadata": {
        "id": "TtsLfBNUB-4Y",
        "colab_type": "text"
      },
      "cell_type": "markdown",
      "source": [
        "Load the test csv file"
      ]
    },
    {
      "metadata": {
        "id": "6ge6gNezt4MC",
        "colab_type": "code",
        "outputId": "112f1dbb-c868-4c85-9dad-1581ae709b45",
        "colab": {
          "base_uri": "https://localhost:8080/",
          "height": 204
        }
      },
      "cell_type": "code",
      "source": [
        "test = pd.read_csv('H:/datasets/Grid/level3/test (2).csv')\n",
        "test.head(5)"
      ],
      "execution_count": 0,
      "outputs": [
        {
          "output_type": "execute_result",
          "data": {
            "text/html": [
              "<div>\n",
              "<style scoped>\n",
              "    .dataframe tbody tr th:only-of-type {\n",
              "        vertical-align: middle;\n",
              "    }\n",
              "\n",
              "    .dataframe tbody tr th {\n",
              "        vertical-align: top;\n",
              "    }\n",
              "\n",
              "    .dataframe thead th {\n",
              "        text-align: right;\n",
              "    }\n",
              "</style>\n",
              "<table border=\"1\" class=\"dataframe\">\n",
              "  <thead>\n",
              "    <tr style=\"text-align: right;\">\n",
              "      <th></th>\n",
              "      <th>image_name</th>\n",
              "      <th>x1</th>\n",
              "      <th>x2</th>\n",
              "      <th>y1</th>\n",
              "      <th>y2</th>\n",
              "    </tr>\n",
              "  </thead>\n",
              "  <tbody>\n",
              "    <tr>\n",
              "      <th>0</th>\n",
              "      <td>1467891670691DSC_0582.png</td>\n",
              "      <td>NaN</td>\n",
              "      <td>NaN</td>\n",
              "      <td>NaN</td>\n",
              "      <td>NaN</td>\n",
              "    </tr>\n",
              "    <tr>\n",
              "      <th>1</th>\n",
              "      <td>1475151786691DSC00560.png</td>\n",
              "      <td>NaN</td>\n",
              "      <td>NaN</td>\n",
              "      <td>NaN</td>\n",
              "      <td>NaN</td>\n",
              "    </tr>\n",
              "    <tr>\n",
              "      <th>2</th>\n",
              "      <td>1480334114405_R2A3620.png</td>\n",
              "      <td>NaN</td>\n",
              "      <td>NaN</td>\n",
              "      <td>NaN</td>\n",
              "      <td>NaN</td>\n",
              "    </tr>\n",
              "    <tr>\n",
              "      <th>3</th>\n",
              "      <td>JPEG_20160712_161047_1000606860114.png</td>\n",
              "      <td>NaN</td>\n",
              "      <td>NaN</td>\n",
              "      <td>NaN</td>\n",
              "      <td>NaN</td>\n",
              "    </tr>\n",
              "    <tr>\n",
              "      <th>4</th>\n",
              "      <td>JPEG_20160403_174522_-1137349501.png</td>\n",
              "      <td>NaN</td>\n",
              "      <td>NaN</td>\n",
              "      <td>NaN</td>\n",
              "      <td>NaN</td>\n",
              "    </tr>\n",
              "  </tbody>\n",
              "</table>\n",
              "</div>"
            ],
            "text/plain": [
              "                               image_name  x1  x2  y1  y2\n",
              "0               1467891670691DSC_0582.png NaN NaN NaN NaN\n",
              "1               1475151786691DSC00560.png NaN NaN NaN NaN\n",
              "2               1480334114405_R2A3620.png NaN NaN NaN NaN\n",
              "3  JPEG_20160712_161047_1000606860114.png NaN NaN NaN NaN\n",
              "4    JPEG_20160403_174522_-1137349501.png NaN NaN NaN NaN"
            ]
          },
          "metadata": {
            "tags": []
          },
          "execution_count": 16
        }
      ]
    },
    {
      "metadata": {
        "id": "S2-Z8fjZuYln",
        "colab_type": "code",
        "outputId": "5087ff8e-96da-4e6f-f878-32d2eb9835ad",
        "colab": {
          "base_uri": "https://localhost:8080/",
          "height": 34
        }
      },
      "cell_type": "code",
      "source": [
        "test.shape"
      ],
      "execution_count": 0,
      "outputs": [
        {
          "output_type": "execute_result",
          "data": {
            "text/plain": [
              "(24045, 5)"
            ]
          },
          "metadata": {
            "tags": []
          },
          "execution_count": 17
        }
      ]
    },
    {
      "metadata": {
        "id": "RkwpV3xPub-G",
        "colab_type": "code",
        "colab": {}
      },
      "cell_type": "code",
      "source": [
        "df2 = test.copy()"
      ],
      "execution_count": 0,
      "outputs": []
    },
    {
      "metadata": {
        "id": "co__UfUuCFaf",
        "colab_type": "text"
      },
      "cell_type": "markdown",
      "source": [
        "Fill the columns of Dataframe with the boxprediction values"
      ]
    },
    {
      "metadata": {
        "id": "sAFyMretug9X",
        "colab_type": "code",
        "colab": {}
      },
      "cell_type": "code",
      "source": [
        "df2['x1'] = boxprediction[:,0]"
      ],
      "execution_count": 0,
      "outputs": []
    },
    {
      "metadata": {
        "id": "dnNu52_qunk5",
        "colab_type": "code",
        "colab": {}
      },
      "cell_type": "code",
      "source": [
        "df2['x2'] = boxprediction[:,1]"
      ],
      "execution_count": 0,
      "outputs": []
    },
    {
      "metadata": {
        "id": "k24h33C0urOW",
        "colab_type": "code",
        "colab": {}
      },
      "cell_type": "code",
      "source": [
        "df2['y1'] = boxprediction[:,2]"
      ],
      "execution_count": 0,
      "outputs": []
    },
    {
      "metadata": {
        "id": "ogLZNw7muumH",
        "colab_type": "code",
        "colab": {}
      },
      "cell_type": "code",
      "source": [
        "df2['y2'] = boxprediction[:,3]"
      ],
      "execution_count": 0,
      "outputs": []
    },
    {
      "metadata": {
        "id": "ayrdvjerux05",
        "colab_type": "code",
        "outputId": "cce822ea-4153-4b73-d0d8-ba50e54799cb",
        "colab": {
          "base_uri": "https://localhost:8080/",
          "height": 204
        }
      },
      "cell_type": "code",
      "source": [
        "df2.head(5)"
      ],
      "execution_count": 0,
      "outputs": [
        {
          "output_type": "execute_result",
          "data": {
            "text/html": [
              "<div>\n",
              "<style scoped>\n",
              "    .dataframe tbody tr th:only-of-type {\n",
              "        vertical-align: middle;\n",
              "    }\n",
              "\n",
              "    .dataframe tbody tr th {\n",
              "        vertical-align: top;\n",
              "    }\n",
              "\n",
              "    .dataframe thead th {\n",
              "        text-align: right;\n",
              "    }\n",
              "</style>\n",
              "<table border=\"1\" class=\"dataframe\">\n",
              "  <thead>\n",
              "    <tr style=\"text-align: right;\">\n",
              "      <th></th>\n",
              "      <th>image_name</th>\n",
              "      <th>x1</th>\n",
              "      <th>x2</th>\n",
              "      <th>y1</th>\n",
              "      <th>y2</th>\n",
              "    </tr>\n",
              "  </thead>\n",
              "  <tbody>\n",
              "    <tr>\n",
              "      <th>0</th>\n",
              "      <td>1467891670691DSC_0582.png</td>\n",
              "      <td>82</td>\n",
              "      <td>557</td>\n",
              "      <td>82</td>\n",
              "      <td>426</td>\n",
              "    </tr>\n",
              "    <tr>\n",
              "      <th>1</th>\n",
              "      <td>1475151786691DSC00560.png</td>\n",
              "      <td>211</td>\n",
              "      <td>416</td>\n",
              "      <td>122</td>\n",
              "      <td>418</td>\n",
              "    </tr>\n",
              "    <tr>\n",
              "      <th>2</th>\n",
              "      <td>1480334114405_R2A3620.png</td>\n",
              "      <td>214</td>\n",
              "      <td>422</td>\n",
              "      <td>88</td>\n",
              "      <td>371</td>\n",
              "    </tr>\n",
              "    <tr>\n",
              "      <th>3</th>\n",
              "      <td>JPEG_20160712_161047_1000606860114.png</td>\n",
              "      <td>177</td>\n",
              "      <td>483</td>\n",
              "      <td>60</td>\n",
              "      <td>407</td>\n",
              "    </tr>\n",
              "    <tr>\n",
              "      <th>4</th>\n",
              "      <td>JPEG_20160403_174522_-1137349501.png</td>\n",
              "      <td>91</td>\n",
              "      <td>527</td>\n",
              "      <td>46</td>\n",
              "      <td>387</td>\n",
              "    </tr>\n",
              "  </tbody>\n",
              "</table>\n",
              "</div>"
            ],
            "text/plain": [
              "                               image_name   x1   x2   y1   y2\n",
              "0               1467891670691DSC_0582.png   82  557   82  426\n",
              "1               1475151786691DSC00560.png  211  416  122  418\n",
              "2               1480334114405_R2A3620.png  214  422   88  371\n",
              "3  JPEG_20160712_161047_1000606860114.png  177  483   60  407\n",
              "4    JPEG_20160403_174522_-1137349501.png   91  527   46  387"
            ]
          },
          "metadata": {
            "tags": []
          },
          "execution_count": 23
        }
      ]
    },
    {
      "metadata": {
        "id": "It890pXTCuls",
        "colab_type": "text"
      },
      "cell_type": "markdown",
      "source": [
        "Save this Dataframe as csv file "
      ]
    },
    {
      "metadata": {
        "id": "BQhAUN0du1IN",
        "colab_type": "code",
        "colab": {}
      },
      "cell_type": "code",
      "source": [
        "df2.to_csv('H:/datasets/Grid/level3/predictioncsv.csv', index=False)"
      ],
      "execution_count": 0,
      "outputs": []
    }
  ]
}