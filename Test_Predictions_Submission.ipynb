{
  "nbformat": 4,
  "nbformat_minor": 0,
  "metadata": {
    "colab": {
      "name": "Test Predictions Submission.ipynb",
      "version": "0.3.2",
      "provenance": [],
      "collapsed_sections": []
    },
    "kernelspec": {
      "name": "python3",
      "display_name": "Python 3"
    },
    "accelerator": "GPU"
  },
  "cells": [
    {
      "metadata": {
        "id": "sfO-lOCeG6YL",
        "colab_type": "code",
        "outputId": "b4a306bc-eda4-4ef7-cff4-8159b8bca5c9",
        "colab": {
          "base_uri": "https://localhost:8080/",
          "height": 34
        }
      },
      "cell_type": "code",
      "source": [
        "from keras.models import Sequential, Model\n",
        "from keras.models import load_model\n",
        "from keras.layers import Reshape, Activation, Conv2D, Input, MaxPooling2D, BatchNormalization, Flatten, Dense, Lambda, Dropout\n",
        "from keras.preprocessing.image import ImageDataGenerator\n",
        "from keras.layers.advanced_activations import LeakyReLU\n",
        "from keras.callbacks import EarlyStopping, ModelCheckpoint, TensorBoard\n",
        "from keras.optimizers import SGD, Adam, RMSprop\n",
        "from keras.layers.merge import concatenate\n",
        "import matplotlib.pyplot as plt\n",
        "import keras.backend as K\n",
        "import tensorflow as tf\n",
        "import imgaug as ia\n",
        "from tqdm import tqdm\n",
        "from imgaug import augmenters as iaa\n",
        "import numpy as np\n",
        "import pickle\n",
        "import os, cv2\n",
        "import pandas as pd"
      ],
      "execution_count": 0,
      "outputs": [
        {
          "output_type": "stream",
          "text": [
            "Using TensorFlow backend.\n"
          ],
          "name": "stderr"
        }
      ]
    },
    {
      "metadata": {
        "id": "_kfEfXfU3-HG",
        "colab_type": "text"
      },
      "cell_type": "markdown",
      "source": [
        "Read images as gray scale.\n",
        "Make a list of np arrays of all the images and check if all the images have same dimension or not. If k=0 then all the test images have same dimension and if k != 0 then there are some images with dimension other than (480, 640)"
      ]
    },
    {
      "metadata": {
        "id": "Vuk1l76XHWGZ",
        "colab_type": "code",
        "colab": {}
      },
      "cell_type": "code",
      "source": [
        "X_data = []\n",
        "k=0\n",
        "for i in range(1,24046):\n",
        "    myFile = \"H:/datasets/Grid/level3/test_images/\" + str(i) + \".png\"\n",
        "    if i%500==0:\n",
        "        print(myFile)\n",
        "    image = cv2.imread(myFile,0)\n",
        "    if image.shape != (480,640):\n",
        "      k=k+1\n",
        "    X_data.append (image)\n",
        "    \n",
        "print(k)"
      ],
      "execution_count": 0,
      "outputs": []
    },
    {
      "metadata": {
        "id": "jYIIInxa39Ij",
        "colab_type": "text"
      },
      "cell_type": "markdown",
      "source": [
        "Convert this list into an np array and save this array into the memory"
      ]
    },
    {
      "metadata": {
        "id": "953ocVmQDpsJ",
        "colab_type": "code",
        "colab": {}
      },
      "cell_type": "code",
      "source": [
        "b = X_data"
      ],
      "execution_count": 0,
      "outputs": []
    },
    {
      "metadata": {
        "id": "vqiqdOao8rgu",
        "colab_type": "code",
        "colab": {}
      },
      "cell_type": "code",
      "source": [
        "del X_data"
      ],
      "execution_count": 0,
      "outputs": []
    },
    {
      "metadata": {
        "id": "J2X4jOjw4h0c",
        "colab_type": "code",
        "colab": {}
      },
      "cell_type": "code",
      "source": [
        "b = np.array(b)"
      ],
      "execution_count": 0,
      "outputs": []
    },
    {
      "metadata": {
        "id": "BWFUd8cmC8mK",
        "colab_type": "code",
        "outputId": "b3dd61cb-40f1-4efc-ab03-32e8c9ed30e3",
        "colab": {
          "base_uri": "https://localhost:8080/",
          "height": 34
        }
      },
      "cell_type": "code",
      "source": [
        "b = b.astype(np.float32)\n",
        "b.dtype"
      ],
      "execution_count": 0,
      "outputs": [
        {
          "output_type": "execute_result",
          "data": {
            "text/plain": [
              "dtype('float32')"
            ]
          },
          "metadata": {
            "tags": []
          },
          "execution_count": 7
        }
      ]
    },
    {
      "metadata": {
        "id": "PzkX4qkS5537",
        "colab_type": "code",
        "colab": {}
      },
      "cell_type": "code",
      "source": [
        "np.save(\"H:/datasets/Grid/level3/testgray.npy\",b)\n"
      ],
      "execution_count": 0,
      "outputs": []
    },
    {
      "metadata": {
        "id": "aFDZ-APg6WVZ",
        "colab_type": "code",
        "colab": {}
      },
      "cell_type": "code",
      "source": [
        "b = np.load('H:/datasets/Grid/level3/testgray.npy')"
      ],
      "execution_count": 0,
      "outputs": []
    },
    {
      "metadata": {
        "id": "u4jm6Uct9e4-",
        "colab_type": "code",
        "outputId": "406712c6-2799-4de6-b052-e002324d4df8",
        "colab": {
          "base_uri": "https://localhost:8080/",
          "height": 34
        }
      },
      "cell_type": "code",
      "source": [
        "b.dtype"
      ],
      "execution_count": 0,
      "outputs": [
        {
          "output_type": "execute_result",
          "data": {
            "text/plain": [
              "dtype('float32')"
            ]
          },
          "metadata": {
            "tags": []
          },
          "execution_count": 46
        }
      ]
    },
    {
      "metadata": {
        "id": "fc1CTDWF-26N",
        "colab_type": "text"
      },
      "cell_type": "markdown",
      "source": [
        "Reshape the array into an array of (24045, 480, 640,1)"
      ]
    },
    {
      "metadata": {
        "id": "L9G71YWtcUB-",
        "colab_type": "code",
        "colab": {}
      },
      "cell_type": "code",
      "source": [
        "b = b.reshape(24045,480,640,1)"
      ],
      "execution_count": 0,
      "outputs": []
    },
    {
      "metadata": {
        "id": "yyULWia6-1s1",
        "colab_type": "text"
      },
      "cell_type": "markdown",
      "source": [
        "Apply feature normalization to make mean = 0 and std deviation = 1"
      ]
    },
    {
      "metadata": {
        "id": "hMN0hlwHLfDG",
        "colab_type": "code",
        "colab": {}
      },
      "cell_type": "code",
      "source": [
        "mean = b[:,:,:,0].mean() \n",
        "std=b[:,:,:,0].std()"
      ],
      "execution_count": 0,
      "outputs": []
    },
    {
      "metadata": {
        "id": "d5Pb6aH-umX7",
        "colab_type": "code",
        "colab": {}
      },
      "cell_type": "code",
      "source": [
        "b[:,:,:,0] = (b[:,:,:,0] - mean)/std\n"
      ],
      "execution_count": 0,
      "outputs": []
    },
    {
      "metadata": {
        "id": "iySGdmYu-rdo",
        "colab_type": "code",
        "outputId": "a8ec2469-ddd2-404a-eaf5-1a7fad81e8c8",
        "colab": {
          "base_uri": "https://localhost:8080/",
          "height": 34
        }
      },
      "cell_type": "code",
      "source": [
        "b.std(), b.mean()"
      ],
      "execution_count": 0,
      "outputs": [
        {
          "output_type": "execute_result",
          "data": {
            "text/plain": [
              "(0.9999952, -6.233952e-06)"
            ]
          },
          "metadata": {
            "tags": []
          },
          "execution_count": 49
        }
      ]
    },
    {
      "metadata": {
        "id": "xwvkPgmuAtKb",
        "colab_type": "text"
      },
      "cell_type": "markdown",
      "source": [
        "Load the model to predict the bounding boxes "
      ]
    },
    {
      "metadata": {
        "id": "MgPuZWocn4yd",
        "colab_type": "code",
        "colab": {}
      },
      "cell_type": "code",
      "source": [
        "model = load_model(\"H:/datasets/Grid/level3/gridweights.h5\")"
      ],
      "execution_count": 0,
      "outputs": []
    },
    {
      "metadata": {
        "id": "YgReDKSvwr0D",
        "colab_type": "code",
        "colab": {}
      },
      "cell_type": "code",
      "source": [
        "out = model.predict(b)"
      ],
      "execution_count": 0,
      "outputs": []
    },
    {
      "metadata": {
        "id": "29rfkiT8A54T",
        "colab_type": "text"
      },
      "cell_type": "markdown",
      "source": [
        "Save this test predictions into the memory"
      ]
    },
    {
      "metadata": {
        "id": "dIbsoFuPrhkf",
        "colab_type": "code",
        "colab": {}
      },
      "cell_type": "code",
      "source": [
        "np.save(\"H:/datasets/Grid/level3/testpred.npy\",out)"
      ],
      "execution_count": 0,
      "outputs": []
    }
  ]
}