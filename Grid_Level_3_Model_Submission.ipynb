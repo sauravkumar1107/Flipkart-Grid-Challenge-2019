{
  "nbformat": 4,
  "nbformat_minor": 0,
  "metadata": {
    "colab": {
      "name": "Grid Level 3 Model Submission.ipynb",
      "version": "0.3.2",
      "provenance": [],
      "collapsed_sections": []
    },
    "kernelspec": {
      "name": "python3",
      "display_name": "Python 3"
    },
    "accelerator": "GPU"
  },
  "cells": [
    {
      "metadata": {
        "id": "sfO-lOCeG6YL",
        "colab_type": "code",
        "outputId": "8e7c6998-1d80-47f0-a79c-6636c024929c",
        "colab": {
          "base_uri": "https://localhost:8080/",
          "height": 34
        }
      },
      "cell_type": "code",
      "source": [
        "from keras.models import Sequential, Model\n",
        "from keras.models import load_model\n",
        "from keras.layers import Reshape, Activation, Conv2D, Input, MaxPooling2D, BatchNormalization, Flatten, Dense, Lambda, Dropout\n",
        "from keras.preprocessing.image import ImageDataGenerator\n",
        "from keras.layers.advanced_activations import LeakyReLU\n",
        "from keras.callbacks import EarlyStopping, ModelCheckpoint, TensorBoard\n",
        "from keras.optimizers import SGD, Adam, RMSprop\n",
        "from keras.layers.merge import concatenate\n",
        "import matplotlib.pyplot as plt\n",
        "import keras.backend as K\n",
        "import tensorflow as tf\n",
        "import imgaug as ia\n",
        "from tqdm import tqdm\n",
        "from imgaug import augmenters as iaa\n",
        "import numpy as np\n",
        "import pickle\n",
        "import os, cv2\n",
        "import pandas as pd"
      ],
      "execution_count": 0,
      "outputs": [
        {
          "output_type": "stream",
          "text": [
            "Using TensorFlow backend.\n"
          ],
          "name": "stderr"
        }
      ]
    },
    {
      "metadata": {
        "id": "rQOfrI2V05ut",
        "colab_type": "text"
      },
      "cell_type": "markdown",
      "source": [
        "Check the dimensions of image"
      ]
    },
    {
      "metadata": {
        "id": "UHAlrByZtV6K",
        "colab_type": "code",
        "outputId": "e8b941ef-f335-4207-eba8-355ff45473be",
        "colab": {
          "base_uri": "https://localhost:8080/",
          "height": 34
        }
      },
      "cell_type": "code",
      "source": [
        "image = cv2.imread(\"H:/datasets/Grid/level3/training_images/1.png\",0)\n",
        "image.shape"
      ],
      "execution_count": 0,
      "outputs": [
        {
          "output_type": "execute_result",
          "data": {
            "text/plain": [
              "(480, 640)"
            ]
          },
          "metadata": {
            "tags": []
          },
          "execution_count": 10
        }
      ]
    },
    {
      "metadata": {
        "id": "4TkM2roC1IX0",
        "colab_type": "text"
      },
      "cell_type": "markdown",
      "source": [
        "Read the images as gray scale image.\n",
        "Make a list X_data of np arrays of all the training images and simultaneously keep checking if all the images have the same dimension or not\n",
        "if all training images have same dimension then k=0 else k!=0"
      ]
    },
    {
      "metadata": {
        "id": "Vuk1l76XHWGZ",
        "colab_type": "code",
        "colab": {}
      },
      "cell_type": "code",
      "source": [
        "X_data = []\n",
        "k=0\n",
        "for i in range(1,24001):\n",
        "    myFile = \"H:/datasets/Grid/level3/training_images/\" + str(i) + \".png\"\n",
        "    if i%500==0:\n",
        "        print(myFile)\n",
        "    image = cv2.imread(myFile,0)\n",
        "    if image.shape != (480,640):\n",
        "      k=k+1\n",
        "    X_data.append (image)\n",
        "    \n",
        "print(k)"
      ],
      "execution_count": 0,
      "outputs": []
    },
    {
      "metadata": {
        "id": "S1P78g6c4QiR",
        "colab_type": "text"
      },
      "cell_type": "markdown",
      "source": [
        "We found one image of dimension (640, 480) so we rotated that image by 90 degree  and replaced the original image with this rotated image into the training image dataset"
      ]
    },
    {
      "metadata": {
        "id": "mjGOSH5Q1_av",
        "colab_type": "text"
      },
      "cell_type": "markdown",
      "source": [
        "Now convert this list into an np array and save this array into the memory "
      ]
    },
    {
      "metadata": {
        "id": "953ocVmQDpsJ",
        "colab_type": "code",
        "colab": {}
      },
      "cell_type": "code",
      "source": [
        "b = X_data"
      ],
      "execution_count": 0,
      "outputs": []
    },
    {
      "metadata": {
        "id": "vqiqdOao8rgu",
        "colab_type": "code",
        "colab": {}
      },
      "cell_type": "code",
      "source": [
        "del X_data"
      ],
      "execution_count": 0,
      "outputs": []
    },
    {
      "metadata": {
        "id": "J2X4jOjw4h0c",
        "colab_type": "code",
        "colab": {}
      },
      "cell_type": "code",
      "source": [
        "b = np.array(b)"
      ],
      "execution_count": 0,
      "outputs": []
    },
    {
      "metadata": {
        "id": "PzkX4qkS5537",
        "colab_type": "code",
        "colab": {}
      },
      "cell_type": "code",
      "source": [
        "np.save(\"H:/datasets/Grid/level3/gray.npy\",b)\n"
      ],
      "execution_count": 0,
      "outputs": []
    },
    {
      "metadata": {
        "id": "aFDZ-APg6WVZ",
        "colab_type": "code",
        "colab": {}
      },
      "cell_type": "code",
      "source": [
        "b = np.load('H:/datasets/Grid/level3/gray.npy')"
      ],
      "execution_count": 0,
      "outputs": []
    },
    {
      "metadata": {
        "id": "u4jm6Uct9e4-",
        "colab_type": "code",
        "outputId": "6644f35e-9580-4b3c-e868-08700a4441da",
        "colab": {
          "base_uri": "https://localhost:8080/",
          "height": 34
        }
      },
      "cell_type": "code",
      "source": [
        "b.dtype"
      ],
      "execution_count": 0,
      "outputs": [
        {
          "output_type": "execute_result",
          "data": {
            "text/plain": [
              "dtype('float32')"
            ]
          },
          "metadata": {
            "tags": []
          },
          "execution_count": 3
        }
      ]
    },
    {
      "metadata": {
        "id": "GATjB_1kPcFY",
        "colab_type": "code",
        "outputId": "5b5df54d-1d09-4d00-ad2c-0784397c8cbd",
        "colab": {
          "base_uri": "https://localhost:8080/",
          "height": 34
        }
      },
      "cell_type": "code",
      "source": [
        "b = b.astype(np.float32)\n",
        "b.dtype"
      ],
      "execution_count": 0,
      "outputs": [
        {
          "output_type": "execute_result",
          "data": {
            "text/plain": [
              "dtype('float32')"
            ]
          },
          "metadata": {
            "tags": []
          },
          "execution_count": 16
        }
      ]
    },
    {
      "metadata": {
        "id": "L9G71YWtcUB-",
        "colab_type": "code",
        "colab": {}
      },
      "cell_type": "code",
      "source": [
        "b = b.reshape(24000,480,640,1)"
      ],
      "execution_count": 0,
      "outputs": []
    },
    {
      "metadata": {
        "id": "cPMpNAfd2T6g",
        "colab_type": "text"
      },
      "cell_type": "markdown",
      "source": [
        "Make a data generator and apply feature normalization i.e. mean=0 and std deviation=1"
      ]
    },
    {
      "metadata": {
        "id": "VV6EuWeaQ5Aq",
        "colab_type": "code",
        "colab": {}
      },
      "cell_type": "code",
      "source": [
        "datagen = ImageDataGenerator(\n",
        "    featurewise_center=True,\n",
        "    featurewise_std_normalization=True)\n",
        "datagen.fit(b)"
      ],
      "execution_count": 0,
      "outputs": []
    },
    {
      "metadata": {
        "id": "GjUk0kZU2kGc",
        "colab_type": "text"
      },
      "cell_type": "markdown",
      "source": [
        "Load the training bounding box csv file"
      ]
    },
    {
      "metadata": {
        "id": "dr_HHQx4Ei30",
        "colab_type": "code",
        "outputId": "7eec4e7e-e02c-467c-81ec-941f4fca14aa",
        "colab": {
          "base_uri": "https://localhost:8080/",
          "height": 204
        }
      },
      "cell_type": "code",
      "source": [
        "boundary = pd.read_csv(\"H:/datasets/Grid/level3/training_set.csv\")\n",
        "boundary.head(5)"
      ],
      "execution_count": 0,
      "outputs": [
        {
          "output_type": "execute_result",
          "data": {
            "text/html": [
              "<div>\n",
              "<style scoped>\n",
              "    .dataframe tbody tr th:only-of-type {\n",
              "        vertical-align: middle;\n",
              "    }\n",
              "\n",
              "    .dataframe tbody tr th {\n",
              "        vertical-align: top;\n",
              "    }\n",
              "\n",
              "    .dataframe thead th {\n",
              "        text-align: right;\n",
              "    }\n",
              "</style>\n",
              "<table border=\"1\" class=\"dataframe\">\n",
              "  <thead>\n",
              "    <tr style=\"text-align: right;\">\n",
              "      <th></th>\n",
              "      <th>image_name</th>\n",
              "      <th>x1</th>\n",
              "      <th>x2</th>\n",
              "      <th>y1</th>\n",
              "      <th>y2</th>\n",
              "    </tr>\n",
              "  </thead>\n",
              "  <tbody>\n",
              "    <tr>\n",
              "      <th>0</th>\n",
              "      <td>JPEG_20160517_140621_1000651031832.png</td>\n",
              "      <td>78</td>\n",
              "      <td>446</td>\n",
              "      <td>83</td>\n",
              "      <td>422</td>\n",
              "    </tr>\n",
              "    <tr>\n",
              "      <th>1</th>\n",
              "      <td>1473231510890DeeplearnS11456.png</td>\n",
              "      <td>73</td>\n",
              "      <td>567</td>\n",
              "      <td>146</td>\n",
              "      <td>351</td>\n",
              "    </tr>\n",
              "    <tr>\n",
              "      <th>2</th>\n",
              "      <td>1476881557883Untitled1.png</td>\n",
              "      <td>13</td>\n",
              "      <td>561</td>\n",
              "      <td>124</td>\n",
              "      <td>362</td>\n",
              "    </tr>\n",
              "    <tr>\n",
              "      <th>3</th>\n",
              "      <td>1474264827890cobalt-beyond-the-sea-maxi-dress3...</td>\n",
              "      <td>0</td>\n",
              "      <td>640</td>\n",
              "      <td>140</td>\n",
              "      <td>330</td>\n",
              "    </tr>\n",
              "    <tr>\n",
              "      <th>4</th>\n",
              "      <td>JPEG_20160711_113321_1000235741992.png</td>\n",
              "      <td>217</td>\n",
              "      <td>442</td>\n",
              "      <td>65</td>\n",
              "      <td>465</td>\n",
              "    </tr>\n",
              "  </tbody>\n",
              "</table>\n",
              "</div>"
            ],
            "text/plain": [
              "                                          image_name   x1   x2   y1   y2\n",
              "0             JPEG_20160517_140621_1000651031832.png   78  446   83  422\n",
              "1                   1473231510890DeeplearnS11456.png   73  567  146  351\n",
              "2                         1476881557883Untitled1.png   13  561  124  362\n",
              "3  1474264827890cobalt-beyond-the-sea-maxi-dress3...    0  640  140  330\n",
              "4             JPEG_20160711_113321_1000235741992.png  217  442   65  465"
            ]
          },
          "metadata": {
            "tags": []
          },
          "execution_count": 8
        }
      ]
    },
    {
      "metadata": {
        "id": "YBEs0mBXFG60",
        "colab_type": "code",
        "colab": {}
      },
      "cell_type": "code",
      "source": [
        "df = boundary.copy()\n",
        "del df[\"image_name\"]"
      ],
      "execution_count": 0,
      "outputs": []
    },
    {
      "metadata": {
        "id": "84UK6vQkGAlK",
        "colab_type": "code",
        "colab": {}
      },
      "cell_type": "code",
      "source": [
        "y = df.values"
      ],
      "execution_count": 0,
      "outputs": []
    },
    {
      "metadata": {
        "id": "e_dLwAp-SW6Z",
        "colab_type": "code",
        "outputId": "828e90b0-8210-4f92-a647-4a8143506ece",
        "colab": {
          "base_uri": "https://localhost:8080/",
          "height": 34
        }
      },
      "cell_type": "code",
      "source": [
        "y = y.astype(np.float32)\n",
        "y.dtype"
      ],
      "execution_count": 0,
      "outputs": [
        {
          "output_type": "execute_result",
          "data": {
            "text/plain": [
              "dtype('float32')"
            ]
          },
          "metadata": {
            "tags": []
          },
          "execution_count": 12
        }
      ]
    },
    {
      "metadata": {
        "id": "B6hx7MgS2tR-",
        "colab_type": "text"
      },
      "cell_type": "markdown",
      "source": [
        "Create the model"
      ]
    },
    {
      "metadata": {
        "id": "Vx5sDWJD718g",
        "colab_type": "code",
        "colab": {}
      },
      "cell_type": "code",
      "source": [
        "    model = Sequential()\n",
        "\n",
        "    model.add(Conv2D(24, (5, 5), padding='same', input_shape=b.shape[1:], name='block1_conv1'))\n",
        "    model.add(BatchNormalization()) \n",
        "    model.add(Activation('elu'))\n",
        "\n",
        "\n",
        "    model.add(MaxPooling2D((2, 2), strides=(2, 2), name='block1_pool'))\n",
        "\n",
        "    model.add(Conv2D(36, (5, 5), padding='same', name='block2_conv2'))\n",
        "    model.add(BatchNormalization()) \n",
        "    model.add(Activation('elu'))\n",
        "    model.add(MaxPooling2D((2, 2), strides=(2, 2), name='block2_pool'))\n",
        "\n",
        "    model.add(Conv2D(48, (5, 5), padding='same', name='block3_conv1'))\n",
        "    model.add(BatchNormalization())\n",
        "    model.add(Activation('elu'))\n",
        "\n",
        "    model.add(Conv2D(64, (3, 3), padding='same', name='block3_conv3'))\n",
        "    model.add(BatchNormalization())\n",
        "    model.add(Activation('elu'))\n",
        "\n",
        "\n",
        "    model.add(MaxPooling2D((2, 2), strides=(2, 2), name='block3_pool'))\n",
        "\n",
        "    model.add(Conv2D(64, (3, 3), padding='same', name='block4_conv1'))\n",
        "    model.add(BatchNormalization()) \n",
        "    model.add(Activation('elu'))\n",
        "\n",
        "\n",
        "\n",
        "    model.add(Conv2D(128, (3, 3), padding='same', name='block4_conv4'))\n",
        "    model.add(BatchNormalization()) \n",
        "    model.add(Activation('elu'))\n",
        "    model.add(MaxPooling2D((2, 2), strides=(2, 2), name='block4_pool'))\n",
        "    \n",
        "    model.add(Conv2D(128, (3, 3), padding='same', name='block5_conv4'))\n",
        "    model.add(BatchNormalization()) \n",
        "    model.add(Activation('elu'))\n",
        "    model.add(MaxPooling2D((2, 2), strides=(2, 2), name='block5_pool'))\n",
        "    \n",
        "    model.add(Conv2D(256, (3, 3), padding='same', name='block6_conv4'))\n",
        "    model.add(BatchNormalization()) \n",
        "    model.add(Activation('elu'))\n",
        "    model.add(MaxPooling2D((2, 2), strides=(2, 2), name='block6_pool'))\n",
        "    \n",
        "    model.add(Conv2D(256, (3, 3), padding='same', name='block7_conv4'))\n",
        "    model.add(BatchNormalization()) \n",
        "    model.add(Activation('elu'))\n",
        "    model.add(MaxPooling2D((2, 2), strides=(2, 2), name='block7_pool'))\n",
        "\n",
        "   \n",
        "\n",
        "    model.add(Flatten())\n",
        "\n",
        "    model.add(Dense(500))\n",
        "    model.add(BatchNormalization()) \n",
        "    model.add(Activation('elu'))\n",
        "    \n",
        "    model.add(Dense(100))\n",
        "    model.add(BatchNormalization()) \n",
        "    model.add(Activation('elu'))\n",
        "   \n",
        "    model.add(Dense(4))\n"
      ],
      "execution_count": 0,
      "outputs": []
    },
    {
      "metadata": {
        "id": "vxAAY-7yuxKq",
        "colab_type": "code",
        "colab": {}
      },
      "cell_type": "code",
      "source": [
        "model.summary()"
      ],
      "execution_count": 0,
      "outputs": []
    },
    {
      "metadata": {
        "id": "BsPsko682x8Z",
        "colab_type": "text"
      },
      "cell_type": "markdown",
      "source": [
        "Compile the model  using mean_absolute_error as the loss function and Adam optimizer with learning rate = 1"
      ]
    },
    {
      "metadata": {
        "id": "yel3M0tb_ydm",
        "colab_type": "code",
        "colab": {}
      },
      "cell_type": "code",
      "source": [
        "model.compile(loss='mean_absolute_error', optimizer=Adam(lr=1))"
      ],
      "execution_count": 0,
      "outputs": []
    },
    {
      "metadata": {
        "id": "aYnR_hv53Grt",
        "colab_type": "text"
      },
      "cell_type": "markdown",
      "source": [
        "Use fit_generator to train the model"
      ]
    },
    {
      "metadata": {
        "id": "-smo7P-GGx1Z",
        "colab_type": "code",
        "colab": {}
      },
      "cell_type": "code",
      "source": [
        "model.fit_generator(datagen.flow(b, y, batch_size=50),\n",
        "                    steps_per_epoch=len(b) / 50, epochs=20)"
      ],
      "execution_count": 0,
      "outputs": []
    },
    {
      "metadata": {
        "id": "kFfWe2F63SQP",
        "colab_type": "text"
      },
      "cell_type": "markdown",
      "source": [
        "Continue to train the model with learning rate 0.1 and 0.01 for better accuracy"
      ]
    },
    {
      "metadata": {
        "id": "8Yy3dzj1wZ1j",
        "colab_type": "code",
        "colab": {}
      },
      "cell_type": "code",
      "source": [
        "model.compile(loss='mean_absolute_error', optimizer=Adam(lr=0.1))"
      ],
      "execution_count": 0,
      "outputs": []
    },
    {
      "metadata": {
        "id": "g02it2DnwfW_",
        "colab_type": "code",
        "colab": {}
      },
      "cell_type": "code",
      "source": [
        "model.fit_generator(datagen.flow(b, y, batch_size=50),\n",
        "                    steps_per_epoch=len(b) / 50, epochs=15)"
      ],
      "execution_count": 0,
      "outputs": []
    },
    {
      "metadata": {
        "id": "1gPEENA7wl_Q",
        "colab_type": "code",
        "colab": {}
      },
      "cell_type": "code",
      "source": [
        "model.compile(loss='mean_absolute_error', optimizer=Adam(lr=0.01))"
      ],
      "execution_count": 0,
      "outputs": []
    },
    {
      "metadata": {
        "id": "vBRG9ycKwomE",
        "colab_type": "code",
        "colab": {}
      },
      "cell_type": "code",
      "source": [
        "model.fit_generator(datagen.flow(b, y, batch_size=50),\n",
        "                    steps_per_epoch=len(b) / 50, epochs=15)"
      ],
      "execution_count": 0,
      "outputs": []
    },
    {
      "metadata": {
        "id": "1upt_qMY3q1q",
        "colab_type": "text"
      },
      "cell_type": "markdown",
      "source": [
        "Save the weights into the memory"
      ]
    },
    {
      "metadata": {
        "id": "2Lk5Ks1We5wa",
        "colab_type": "code",
        "colab": {}
      },
      "cell_type": "code",
      "source": [
        "model.save(\"H:/datasets/Grid/level3/gridweights.h5\")"
      ],
      "execution_count": 0,
      "outputs": []
    }
  ]
}